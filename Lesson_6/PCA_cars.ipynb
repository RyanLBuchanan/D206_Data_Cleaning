{
 "cells": [
  {
   "cell_type": "code",
   "execution_count": 2,
   "metadata": {},
   "outputs": [],
   "source": [
    "# Call the pandas library\n",
    "import pandas as pd"
   ]
  },
  {
   "cell_type": "code",
   "execution_count": 3,
   "metadata": {},
   "outputs": [],
   "source": [
    "cars = pd.read_csv('cars.csv', index_col=0)"
   ]
  },
  {
   "cell_type": "code",
   "execution_count": 4,
   "metadata": {},
   "outputs": [
    {
     "data": {
      "text/html": [
       "<div>\n",
       "<style scoped>\n",
       "    .dataframe tbody tr th:only-of-type {\n",
       "        vertical-align: middle;\n",
       "    }\n",
       "\n",
       "    .dataframe tbody tr th {\n",
       "        vertical-align: top;\n",
       "    }\n",
       "\n",
       "    .dataframe thead th {\n",
       "        text-align: right;\n",
       "    }\n",
       "</style>\n",
       "<table border=\"1\" class=\"dataframe\">\n",
       "  <thead>\n",
       "    <tr style=\"text-align: right;\">\n",
       "      <th></th>\n",
       "      <th>mpg</th>\n",
       "      <th>cyl</th>\n",
       "      <th>disp</th>\n",
       "      <th>hp</th>\n",
       "      <th>drat</th>\n",
       "      <th>wt</th>\n",
       "      <th>qsec</th>\n",
       "      <th>vs</th>\n",
       "      <th>am</th>\n",
       "      <th>gear</th>\n",
       "      <th>carb</th>\n",
       "    </tr>\n",
       "  </thead>\n",
       "  <tbody>\n",
       "    <tr>\n",
       "      <th>Mazda RX4</th>\n",
       "      <td>21.0</td>\n",
       "      <td>6</td>\n",
       "      <td>160.0</td>\n",
       "      <td>110</td>\n",
       "      <td>3.90</td>\n",
       "      <td>2.620</td>\n",
       "      <td>16.46</td>\n",
       "      <td>0</td>\n",
       "      <td>1</td>\n",
       "      <td>4</td>\n",
       "      <td>4</td>\n",
       "    </tr>\n",
       "    <tr>\n",
       "      <th>Mazda RX4 Wag</th>\n",
       "      <td>21.0</td>\n",
       "      <td>6</td>\n",
       "      <td>160.0</td>\n",
       "      <td>110</td>\n",
       "      <td>3.90</td>\n",
       "      <td>2.875</td>\n",
       "      <td>17.02</td>\n",
       "      <td>0</td>\n",
       "      <td>1</td>\n",
       "      <td>4</td>\n",
       "      <td>4</td>\n",
       "    </tr>\n",
       "    <tr>\n",
       "      <th>Datsun 710</th>\n",
       "      <td>22.8</td>\n",
       "      <td>4</td>\n",
       "      <td>108.0</td>\n",
       "      <td>93</td>\n",
       "      <td>3.85</td>\n",
       "      <td>2.320</td>\n",
       "      <td>18.61</td>\n",
       "      <td>1</td>\n",
       "      <td>1</td>\n",
       "      <td>4</td>\n",
       "      <td>1</td>\n",
       "    </tr>\n",
       "    <tr>\n",
       "      <th>Hornet 4 Drive</th>\n",
       "      <td>21.4</td>\n",
       "      <td>6</td>\n",
       "      <td>258.0</td>\n",
       "      <td>110</td>\n",
       "      <td>3.08</td>\n",
       "      <td>3.215</td>\n",
       "      <td>19.44</td>\n",
       "      <td>1</td>\n",
       "      <td>0</td>\n",
       "      <td>3</td>\n",
       "      <td>1</td>\n",
       "    </tr>\n",
       "    <tr>\n",
       "      <th>Hornet Sportabout</th>\n",
       "      <td>18.7</td>\n",
       "      <td>8</td>\n",
       "      <td>360.0</td>\n",
       "      <td>175</td>\n",
       "      <td>3.15</td>\n",
       "      <td>3.440</td>\n",
       "      <td>17.02</td>\n",
       "      <td>0</td>\n",
       "      <td>0</td>\n",
       "      <td>3</td>\n",
       "      <td>2</td>\n",
       "    </tr>\n",
       "  </tbody>\n",
       "</table>\n",
       "</div>"
      ],
      "text/plain": [
       "                    mpg  cyl   disp   hp  drat     wt   qsec  vs  am  gear  \\\n",
       "Mazda RX4          21.0    6  160.0  110  3.90  2.620  16.46   0   1     4   \n",
       "Mazda RX4 Wag      21.0    6  160.0  110  3.90  2.875  17.02   0   1     4   \n",
       "Datsun 710         22.8    4  108.0   93  3.85  2.320  18.61   1   1     4   \n",
       "Hornet 4 Drive     21.4    6  258.0  110  3.08  3.215  19.44   1   0     3   \n",
       "Hornet Sportabout  18.7    8  360.0  175  3.15  3.440  17.02   0   0     3   \n",
       "\n",
       "                   carb  \n",
       "Mazda RX4             4  \n",
       "Mazda RX4 Wag         4  \n",
       "Datsun 710            1  \n",
       "Hornet 4 Drive        1  \n",
       "Hornet Sportabout     2  "
      ]
     },
     "execution_count": 4,
     "metadata": {},
     "output_type": "execute_result"
    }
   ],
   "source": [
    "cars.head()"
   ]
  },
  {
   "cell_type": "code",
   "execution_count": 5,
   "metadata": {},
   "outputs": [],
   "source": [
    "cars = cars[['mpg', 'cyl', 'disp', 'hp', 'drat', 'wt', 'qsec', 'gear', 'carb']]"
   ]
  },
  {
   "cell_type": "code",
   "execution_count": 6,
   "metadata": {},
   "outputs": [
    {
     "data": {
      "text/html": [
       "<div>\n",
       "<style scoped>\n",
       "    .dataframe tbody tr th:only-of-type {\n",
       "        vertical-align: middle;\n",
       "    }\n",
       "\n",
       "    .dataframe tbody tr th {\n",
       "        vertical-align: top;\n",
       "    }\n",
       "\n",
       "    .dataframe thead th {\n",
       "        text-align: right;\n",
       "    }\n",
       "</style>\n",
       "<table border=\"1\" class=\"dataframe\">\n",
       "  <thead>\n",
       "    <tr style=\"text-align: right;\">\n",
       "      <th></th>\n",
       "      <th>mpg</th>\n",
       "      <th>cyl</th>\n",
       "      <th>disp</th>\n",
       "      <th>hp</th>\n",
       "      <th>drat</th>\n",
       "      <th>wt</th>\n",
       "      <th>qsec</th>\n",
       "      <th>gear</th>\n",
       "      <th>carb</th>\n",
       "    </tr>\n",
       "  </thead>\n",
       "  <tbody>\n",
       "    <tr>\n",
       "      <th>Mazda RX4</th>\n",
       "      <td>21.0</td>\n",
       "      <td>6</td>\n",
       "      <td>160.0</td>\n",
       "      <td>110</td>\n",
       "      <td>3.90</td>\n",
       "      <td>2.620</td>\n",
       "      <td>16.46</td>\n",
       "      <td>4</td>\n",
       "      <td>4</td>\n",
       "    </tr>\n",
       "    <tr>\n",
       "      <th>Mazda RX4 Wag</th>\n",
       "      <td>21.0</td>\n",
       "      <td>6</td>\n",
       "      <td>160.0</td>\n",
       "      <td>110</td>\n",
       "      <td>3.90</td>\n",
       "      <td>2.875</td>\n",
       "      <td>17.02</td>\n",
       "      <td>4</td>\n",
       "      <td>4</td>\n",
       "    </tr>\n",
       "    <tr>\n",
       "      <th>Datsun 710</th>\n",
       "      <td>22.8</td>\n",
       "      <td>4</td>\n",
       "      <td>108.0</td>\n",
       "      <td>93</td>\n",
       "      <td>3.85</td>\n",
       "      <td>2.320</td>\n",
       "      <td>18.61</td>\n",
       "      <td>4</td>\n",
       "      <td>1</td>\n",
       "    </tr>\n",
       "    <tr>\n",
       "      <th>Hornet 4 Drive</th>\n",
       "      <td>21.4</td>\n",
       "      <td>6</td>\n",
       "      <td>258.0</td>\n",
       "      <td>110</td>\n",
       "      <td>3.08</td>\n",
       "      <td>3.215</td>\n",
       "      <td>19.44</td>\n",
       "      <td>3</td>\n",
       "      <td>1</td>\n",
       "    </tr>\n",
       "    <tr>\n",
       "      <th>Hornet Sportabout</th>\n",
       "      <td>18.7</td>\n",
       "      <td>8</td>\n",
       "      <td>360.0</td>\n",
       "      <td>175</td>\n",
       "      <td>3.15</td>\n",
       "      <td>3.440</td>\n",
       "      <td>17.02</td>\n",
       "      <td>3</td>\n",
       "      <td>2</td>\n",
       "    </tr>\n",
       "  </tbody>\n",
       "</table>\n",
       "</div>"
      ],
      "text/plain": [
       "                    mpg  cyl   disp   hp  drat     wt   qsec  gear  carb\n",
       "Mazda RX4          21.0    6  160.0  110  3.90  2.620  16.46     4     4\n",
       "Mazda RX4 Wag      21.0    6  160.0  110  3.90  2.875  17.02     4     4\n",
       "Datsun 710         22.8    4  108.0   93  3.85  2.320  18.61     4     1\n",
       "Hornet 4 Drive     21.4    6  258.0  110  3.08  3.215  19.44     3     1\n",
       "Hornet Sportabout  18.7    8  360.0  175  3.15  3.440  17.02     3     2"
      ]
     },
     "execution_count": 6,
     "metadata": {},
     "output_type": "execute_result"
    }
   ],
   "source": [
    "cars.head()"
   ]
  },
  {
   "cell_type": "code",
   "execution_count": 7,
   "metadata": {},
   "outputs": [],
   "source": [
    "from sklearn.decomposition import PCA"
   ]
  },
  {
   "cell_type": "code",
   "execution_count": 9,
   "metadata": {},
   "outputs": [],
   "source": [
    "cars_normalized = (cars - cars.mean()) / cars.std()"
   ]
  },
  {
   "cell_type": "code",
   "execution_count": 10,
   "metadata": {},
   "outputs": [
    {
     "data": {
      "text/html": [
       "<div>\n",
       "<style scoped>\n",
       "    .dataframe tbody tr th:only-of-type {\n",
       "        vertical-align: middle;\n",
       "    }\n",
       "\n",
       "    .dataframe tbody tr th {\n",
       "        vertical-align: top;\n",
       "    }\n",
       "\n",
       "    .dataframe thead th {\n",
       "        text-align: right;\n",
       "    }\n",
       "</style>\n",
       "<table border=\"1\" class=\"dataframe\">\n",
       "  <thead>\n",
       "    <tr style=\"text-align: right;\">\n",
       "      <th></th>\n",
       "      <th>mpg</th>\n",
       "      <th>cyl</th>\n",
       "      <th>disp</th>\n",
       "      <th>hp</th>\n",
       "      <th>drat</th>\n",
       "      <th>wt</th>\n",
       "      <th>qsec</th>\n",
       "      <th>gear</th>\n",
       "      <th>carb</th>\n",
       "    </tr>\n",
       "  </thead>\n",
       "  <tbody>\n",
       "    <tr>\n",
       "      <th>Mazda RX4</th>\n",
       "      <td>0.150885</td>\n",
       "      <td>-0.104988</td>\n",
       "      <td>-0.570620</td>\n",
       "      <td>-0.535093</td>\n",
       "      <td>0.567514</td>\n",
       "      <td>-0.610400</td>\n",
       "      <td>-0.777165</td>\n",
       "      <td>0.423554</td>\n",
       "      <td>0.735203</td>\n",
       "    </tr>\n",
       "    <tr>\n",
       "      <th>Mazda RX4 Wag</th>\n",
       "      <td>0.150885</td>\n",
       "      <td>-0.104988</td>\n",
       "      <td>-0.570620</td>\n",
       "      <td>-0.535093</td>\n",
       "      <td>0.567514</td>\n",
       "      <td>-0.349785</td>\n",
       "      <td>-0.463781</td>\n",
       "      <td>0.423554</td>\n",
       "      <td>0.735203</td>\n",
       "    </tr>\n",
       "    <tr>\n",
       "      <th>Datsun 710</th>\n",
       "      <td>0.449543</td>\n",
       "      <td>-1.224858</td>\n",
       "      <td>-0.990182</td>\n",
       "      <td>-0.783040</td>\n",
       "      <td>0.474000</td>\n",
       "      <td>-0.917005</td>\n",
       "      <td>0.426007</td>\n",
       "      <td>0.423554</td>\n",
       "      <td>-1.122152</td>\n",
       "    </tr>\n",
       "    <tr>\n",
       "      <th>Hornet 4 Drive</th>\n",
       "      <td>0.217253</td>\n",
       "      <td>-0.104988</td>\n",
       "      <td>0.220094</td>\n",
       "      <td>-0.535093</td>\n",
       "      <td>-0.966118</td>\n",
       "      <td>-0.002300</td>\n",
       "      <td>0.890487</td>\n",
       "      <td>-0.931819</td>\n",
       "      <td>-1.122152</td>\n",
       "    </tr>\n",
       "    <tr>\n",
       "      <th>Hornet Sportabout</th>\n",
       "      <td>-0.230735</td>\n",
       "      <td>1.014882</td>\n",
       "      <td>1.043081</td>\n",
       "      <td>0.412942</td>\n",
       "      <td>-0.835198</td>\n",
       "      <td>0.227654</td>\n",
       "      <td>-0.463781</td>\n",
       "      <td>-0.931819</td>\n",
       "      <td>-0.503034</td>\n",
       "    </tr>\n",
       "  </tbody>\n",
       "</table>\n",
       "</div>"
      ],
      "text/plain": [
       "                        mpg       cyl      disp        hp      drat        wt  \\\n",
       "Mazda RX4          0.150885 -0.104988 -0.570620 -0.535093  0.567514 -0.610400   \n",
       "Mazda RX4 Wag      0.150885 -0.104988 -0.570620 -0.535093  0.567514 -0.349785   \n",
       "Datsun 710         0.449543 -1.224858 -0.990182 -0.783040  0.474000 -0.917005   \n",
       "Hornet 4 Drive     0.217253 -0.104988  0.220094 -0.535093 -0.966118 -0.002300   \n",
       "Hornet Sportabout -0.230735  1.014882  1.043081  0.412942 -0.835198  0.227654   \n",
       "\n",
       "                       qsec      gear      carb  \n",
       "Mazda RX4         -0.777165  0.423554  0.735203  \n",
       "Mazda RX4 Wag     -0.463781  0.423554  0.735203  \n",
       "Datsun 710         0.426007  0.423554 -1.122152  \n",
       "Hornet 4 Drive     0.890487 -0.931819 -1.122152  \n",
       "Hornet Sportabout -0.463781 -0.931819 -0.503034  "
      ]
     },
     "execution_count": 10,
     "metadata": {},
     "output_type": "execute_result"
    }
   ],
   "source": [
    "cars_normalized.head()"
   ]
  },
  {
   "cell_type": "code",
   "execution_count": 11,
   "metadata": {},
   "outputs": [],
   "source": [
    "pca = PCA(n_components=cars.shape[1])"
   ]
  },
  {
   "cell_type": "code",
   "execution_count": 12,
   "metadata": {},
   "outputs": [],
   "source": [
    "pca.fit(cars_normalized)\n",
    "cars_pca = pd.DataFrame(pca.transform(cars_normalized))\n",
    "columns = ['PC1', 'PC2', 'PC3', 'PC4', 'PC5', 'PC6', 'PC7', 'PC8', 'PC9']"
   ]
  },
  {
   "cell_type": "markdown",
   "metadata": {},
   "source": [
    "#### Create a scree plot by importing matplotlib and seaborn"
   ]
  },
  {
   "cell_type": "code",
   "execution_count": 13,
   "metadata": {},
   "outputs": [],
   "source": [
    "import matplotlib.pyplot as plt\n",
    "import seaborn as sns"
   ]
  },
  {
   "cell_type": "code",
   "execution_count": 14,
   "metadata": {},
   "outputs": [
    {
     "name": "stderr",
     "output_type": "stream",
     "text": [
      "findfont: Font family ['sans-serif'] not found. Falling back to DejaVu Sans.\n"
     ]
    },
    {
     "data": {
      "image/png": "[encoded data removed]",
      "text/plain": [
       "<Figure size 840x480 with 1 Axes>"
      ]
     },
     "metadata": {
      "image/png": {
       "height": 437,
       "width": 736
      },
      "needs_background": "dark"
     },
     "output_type": "display_data"
    }
   ],
   "source": [
    "plt.plot(pca.explained_variance_ratio_)\n",
    "plt.xlabel('number of components')\n",
    "plt.ylabel('explained variance')\n",
    "plt.show();"
   ]
  },
  {
   "cell_type": "code",
   "execution_count": 15,
   "metadata": {},
   "outputs": [],
   "source": [
    "cov_matrix = np.dot(cars_normalized.T, cars_normalized) / cars.shape[0]\n",
    "eigenvalues = [np.dot(eigenvector.T, np.dot(cov_matrix, eigenvector)) \n",
    "               for eigenvector in pca.components_]\n"
   ]
  },
  {
   "cell_type": "code",
   "execution_count": 16,
   "metadata": {},
   "outputs": [
    {
     "data": {
      "image/png": "[encoded data removed]",
      "text/plain": [
       "<Figure size 840x480 with 1 Axes>"
      ]
     },
     "metadata": {
      "image/png": {
       "height": 437,
       "width": 720
      },
      "needs_background": "dark"
     },
     "output_type": "display_data"
    }
   ],
   "source": [
    "plt.plot(eigenvalues)\n",
    "plt.xlabel('number of of components')\n",
    "plt.ylabel('eigenvalues')\n",
    "plt.show()"
   ]
  },
  {
   "cell_type": "code",
   "execution_count": 17,
   "metadata": {},
   "outputs": [
    {
     "data": {
      "text/html": [
       "<div>\n",
       "<style scoped>\n",
       "    .dataframe tbody tr th:only-of-type {\n",
       "        vertical-align: middle;\n",
       "    }\n",
       "\n",
       "    .dataframe tbody tr th {\n",
       "        vertical-align: top;\n",
       "    }\n",
       "\n",
       "    .dataframe thead th {\n",
       "        text-align: right;\n",
       "    }\n",
       "</style>\n",
       "<table border=\"1\" class=\"dataframe\">\n",
       "  <thead>\n",
       "    <tr style=\"text-align: right;\">\n",
       "      <th></th>\n",
       "      <th>PC1</th>\n",
       "      <th>PC2</th>\n",
       "      <th>PC3</th>\n",
       "      <th>PC4</th>\n",
       "      <th>PC5</th>\n",
       "      <th>PC6</th>\n",
       "      <th>PC7</th>\n",
       "      <th>PC8</th>\n",
       "      <th>PC9</th>\n",
       "    </tr>\n",
       "  </thead>\n",
       "  <tbody>\n",
       "    <tr>\n",
       "      <th>mpg</th>\n",
       "      <td>0.393148</td>\n",
       "      <td>0.027539</td>\n",
       "      <td>-0.221193</td>\n",
       "      <td>-0.006126</td>\n",
       "      <td>0.320762</td>\n",
       "      <td>0.720156</td>\n",
       "      <td>-0.381381</td>\n",
       "      <td>-0.124660</td>\n",
       "      <td>0.114929</td>\n",
       "    </tr>\n",
       "    <tr>\n",
       "      <th>cyl</th>\n",
       "      <td>-0.402554</td>\n",
       "      <td>0.015710</td>\n",
       "      <td>-0.252316</td>\n",
       "      <td>0.040700</td>\n",
       "      <td>-0.117140</td>\n",
       "      <td>0.224325</td>\n",
       "      <td>-0.158933</td>\n",
       "      <td>0.810322</td>\n",
       "      <td>0.162663</td>\n",
       "    </tr>\n",
       "    <tr>\n",
       "      <th>disp</th>\n",
       "      <td>-0.397353</td>\n",
       "      <td>-0.088885</td>\n",
       "      <td>-0.078251</td>\n",
       "      <td>0.339494</td>\n",
       "      <td>0.486785</td>\n",
       "      <td>-0.019675</td>\n",
       "      <td>-0.182331</td>\n",
       "      <td>-0.064167</td>\n",
       "      <td>-0.661908</td>\n",
       "    </tr>\n",
       "    <tr>\n",
       "      <th>hp</th>\n",
       "      <td>-0.367081</td>\n",
       "      <td>0.269414</td>\n",
       "      <td>-0.017212</td>\n",
       "      <td>0.068301</td>\n",
       "      <td>0.294732</td>\n",
       "      <td>0.353942</td>\n",
       "      <td>0.696208</td>\n",
       "      <td>-0.165740</td>\n",
       "      <td>0.251773</td>\n",
       "    </tr>\n",
       "    <tr>\n",
       "      <th>drat</th>\n",
       "      <td>0.311817</td>\n",
       "      <td>0.341653</td>\n",
       "      <td>0.149955</td>\n",
       "      <td>0.845658</td>\n",
       "      <td>-0.161926</td>\n",
       "      <td>-0.015368</td>\n",
       "      <td>0.047680</td>\n",
       "      <td>0.135051</td>\n",
       "      <td>0.038091</td>\n",
       "    </tr>\n",
       "    <tr>\n",
       "      <th>wt</th>\n",
       "      <td>-0.373477</td>\n",
       "      <td>-0.171943</td>\n",
       "      <td>0.453734</td>\n",
       "      <td>0.191260</td>\n",
       "      <td>0.187482</td>\n",
       "      <td>-0.083772</td>\n",
       "      <td>-0.427776</td>\n",
       "      <td>-0.198394</td>\n",
       "      <td>0.569188</td>\n",
       "    </tr>\n",
       "    <tr>\n",
       "      <th>qsec</th>\n",
       "      <td>0.224351</td>\n",
       "      <td>-0.484044</td>\n",
       "      <td>0.628128</td>\n",
       "      <td>-0.030329</td>\n",
       "      <td>0.148250</td>\n",
       "      <td>0.257529</td>\n",
       "      <td>0.276226</td>\n",
       "      <td>0.356133</td>\n",
       "      <td>-0.168737</td>\n",
       "    </tr>\n",
       "    <tr>\n",
       "      <th>gear</th>\n",
       "      <td>0.209475</td>\n",
       "      <td>0.550783</td>\n",
       "      <td>0.206584</td>\n",
       "      <td>-0.282382</td>\n",
       "      <td>0.562486</td>\n",
       "      <td>-0.322982</td>\n",
       "      <td>-0.085557</td>\n",
       "      <td>0.316365</td>\n",
       "      <td>0.047197</td>\n",
       "    </tr>\n",
       "    <tr>\n",
       "      <th>carb</th>\n",
       "      <td>-0.244581</td>\n",
       "      <td>0.484313</td>\n",
       "      <td>0.464121</td>\n",
       "      <td>-0.214492</td>\n",
       "      <td>-0.399782</td>\n",
       "      <td>0.357069</td>\n",
       "      <td>-0.206042</td>\n",
       "      <td>-0.108328</td>\n",
       "      <td>-0.320459</td>\n",
       "    </tr>\n",
       "  </tbody>\n",
       "</table>\n",
       "</div>"
      ],
      "text/plain": [
       "           PC1       PC2       PC3       PC4       PC5       PC6       PC7  \\\n",
       "mpg   0.393148  0.027539 -0.221193 -0.006126  0.320762  0.720156 -0.381381   \n",
       "cyl  -0.402554  0.015710 -0.252316  0.040700 -0.117140  0.224325 -0.158933   \n",
       "disp -0.397353 -0.088885 -0.078251  0.339494  0.486785 -0.019675 -0.182331   \n",
       "hp   -0.367081  0.269414 -0.017212  0.068301  0.294732  0.353942  0.696208   \n",
       "drat  0.311817  0.341653  0.149955  0.845658 -0.161926 -0.015368  0.047680   \n",
       "wt   -0.373477 -0.171943  0.453734  0.191260  0.187482 -0.083772 -0.427776   \n",
       "qsec  0.224351 -0.484044  0.628128 -0.030329  0.148250  0.257529  0.276226   \n",
       "gear  0.209475  0.550783  0.206584 -0.282382  0.562486 -0.322982 -0.085557   \n",
       "carb -0.244581  0.484313  0.464121 -0.214492 -0.399782  0.357069 -0.206042   \n",
       "\n",
       "           PC8       PC9  \n",
       "mpg  -0.124660  0.114929  \n",
       "cyl   0.810322  0.162663  \n",
       "disp -0.064167 -0.661908  \n",
       "hp   -0.165740  0.251773  \n",
       "drat  0.135051  0.038091  \n",
       "wt   -0.198394  0.569188  \n",
       "qsec  0.356133 -0.168737  \n",
       "gear  0.316365  0.047197  \n",
       "carb -0.108328 -0.320459  "
      ]
     },
     "execution_count": 17,
     "metadata": {},
     "output_type": "execute_result"
    }
   ],
   "source": [
    "loadings = pd.DataFrame(pca.components_.T, \n",
    "                        columns = ['PC1', 'PC2', 'PC3', 'PC4', 'PC5', 'PC6', 'PC7', 'PC8', 'PC9'],\n",
    "                        index = cars.columns)\n",
    "loadings"
   ]
  },
  {
   "cell_type": "code",
   "execution_count": null,
   "metadata": {},
   "outputs": [],
   "source": []
  }
 ],
 "metadata": {
  "kernelspec": {
   "display_name": "Python 3",
   "language": "python",
   "name": "python3"
  },
  "language_info": {
   "codemirror_mode": {
    "name": "ipython",
    "version": 3
   },
   "file_extension": ".py",
   "mimetype": "text/x-python",
   "name": "python",
   "nbconvert_exporter": "python",
   "pygments_lexer": "ipython3",
   "version": "3.7.6"
  },
  "varInspector": {
   "cols": {
    "lenName": 16,
    "lenType": 16,
    "lenVar": 40
   },
   "kernels_config": {
    "python": {
     "delete_cmd_postfix": "",
     "delete_cmd_prefix": "del ",
     "library": "var_list.py",
     "varRefreshCmd": "print(var_dic_list())"
    },
    "r": {
     "delete_cmd_postfix": ") ",
     "delete_cmd_prefix": "rm(",
     "library": "var_list.r",
     "varRefreshCmd": "cat(var_dic_list()) "
    }
   },
   "types_to_exclude": [
    "module",
    "function",
    "builtin_function_or_method",
    "instance",
    "_Feature"
   ],
   "window_display": false
  }
 },
 "nbformat": 4,
 "nbformat_minor": 4
}
