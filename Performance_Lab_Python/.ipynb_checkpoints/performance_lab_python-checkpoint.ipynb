{
 "cells": [
  {
   "cell_type": "markdown",
   "metadata": {},
   "source": [
    "#### Code to expand cell width"
   ]
  },
  {
   "cell_type": "code",
   "execution_count": 1,
   "metadata": {},
   "outputs": [
    {
     "data": {
      "text/html": [
       "<style>.container { width:75% !important; }</style>"
      ],
      "text/plain": [
       "<IPython.core.display.HTML object>"
      ]
     },
     "metadata": {},
     "output_type": "display_data"
    }
   ],
   "source": [
    "from IPython.core.display import display, HTML\n",
    "display(HTML(\"<style>.container { width:75% !important; }</style>\"))"
   ]
  },
  {
   "cell_type": "markdown",
   "metadata": {},
   "source": [
    "#### Write the code to import the dataset Boston_housing_data.csv with the locationid column being an integer. Use print() to see the dataset as output."
   ]
  },
  {
   "cell_type": "code",
   "execution_count": 2,
   "metadata": {},
   "outputs": [
    {
     "name": "stdout",
     "output_type": "stream",
     "text": [
      "   locationid     crim    zn  indus  chas    nox     rm   age     dis  rad  \\\n",
      "0         101  0.00632  18.0   2.31   0.0  0.538  6.575  65.2  4.0900  NaN   \n",
      "1         102  0.02731   0.0   7.07   0.0  0.469  6.421  78.9  4.9671  NaN   \n",
      "2         103  0.02729   0.0   7.07   0.0  0.469  7.185  61.1  4.9671  2.0   \n",
      "3         104  0.03237   0.0   2.18   0.0  0.458  6.998  45.8  6.0622  NaN   \n",
      "4         105  0.06905   0.0   2.18   0.0  0.458  7.147  54.2  6.0622  3.0   \n",
      "\n",
      "     tax  ptratio  lstat  medv date_appraised locationzone locationdistrict  \n",
      "0  296.0     15.3   4.98  24.0     2016-03-27           N3                N  \n",
      "1  242.0     17.8   9.14  21.6     2016-03-28           B2                B  \n",
      "2  242.0     17.8   4.03  34.7     2016-03-27           G3                G  \n",
      "3  222.0     18.7   2.94  33.4     2016-03-26           D2                D  \n",
      "4  222.0     18.7   5.33  36.2     2016-03-28           M3                M  \n"
     ]
    }
   ],
   "source": [
    "import pandas as pd\n",
    "import numpy as np\n",
    "df = pd.read_csv('boston_housing_data.csv', dtype = {'locationid':np.int64})\n",
    "data = df.head()\n",
    "print(data)"
   ]
  },
  {
   "cell_type": "markdown",
   "metadata": {},
   "source": [
    "#### Write code that displays the number of rows and columns in the dataframe stored as df."
   ]
  },
  {
   "cell_type": "code",
   "execution_count": 3,
   "metadata": {},
   "outputs": [
    {
     "name": "stdout",
     "output_type": "stream",
     "text": [
      "(508, 17)\n"
     ]
    }
   ],
   "source": [
    "data = df.shape\n",
    "print(data)"
   ]
  },
  {
   "cell_type": "markdown",
   "metadata": {},
   "source": [
    "#### Write code to display the column names in the dataframe stored as df."
   ]
  },
  {
   "cell_type": "code",
   "execution_count": 4,
   "metadata": {},
   "outputs": [
    {
     "name": "stdout",
     "output_type": "stream",
     "text": [
      "Index(['locationid', 'crim', 'zn', 'indus', 'chas', 'nox', 'rm', 'age', 'dis',\n",
      "       'rad', 'tax', 'ptratio', 'lstat', 'medv', 'date_appraised',\n",
      "       'locationzone', 'locationdistrict'],\n",
      "      dtype='object')\n"
     ]
    }
   ],
   "source": [
    "data = df.columns\n",
    "print(data)"
   ]
  },
  {
   "cell_type": "markdown",
   "metadata": {},
   "source": [
    "#### Write code to display the mean, count, min, and max of all the numeric data using a single line of code in the dataframe stored as df."
   ]
  },
  {
   "cell_type": "code",
   "execution_count": 5,
   "metadata": {},
   "outputs": [
    {
     "name": "stdout",
     "output_type": "stream",
     "text": [
      "       locationid        crim          zn       indus        chas         nox  \\\n",
      "count  508.000000  508.000000  508.000000  508.000000  508.000000  508.000000   \n",
      "mean   353.897638    3.600349   11.658465   11.101063    0.070866    0.553938   \n",
      "std    146.376192    8.587137   23.746192    6.870382    0.256854    0.116321   \n",
      "min    101.000000    0.006320    0.000000    0.460000    0.000000    0.310000   \n",
      "25%    227.750000    0.081960    0.000000    5.130000    0.000000    0.448750   \n",
      "50%    353.500000    0.256510    0.000000    9.690000    0.000000    0.538000   \n",
      "75%    480.250000    3.674808   12.500000   18.100000    0.000000    0.624000   \n",
      "max    607.000000   88.976200  100.000000   27.740000    1.000000    0.871000   \n",
      "\n",
      "               rm         age         dis         rad         tax     ptratio  \\\n",
      "count  508.000000  508.000000  508.000000  300.000000  508.000000  508.000000   \n",
      "mean     6.290132   68.388976    3.813310    9.983333  408.320866   18.449213   \n",
      "std      0.713083   28.269108    2.125937    8.927976  168.287515    2.167225   \n",
      "min      3.561000    2.900000    1.129600    1.000000  187.000000   12.600000   \n",
      "25%      5.886500   44.225000    2.100525    4.000000  279.000000   17.375000   \n",
      "50%      6.208500   77.150000    3.215700    5.000000  330.000000   19.000000   \n",
      "75%      6.626000   94.025000    5.214600   24.000000  666.000000   20.200000   \n",
      "max      9.200000  100.000000   12.126500   24.000000  711.000000   22.000000   \n",
      "\n",
      "            lstat        medv  \n",
      "count  508.000000  508.000000  \n",
      "mean    12.621063   22.727756  \n",
      "std      7.147480   10.146783  \n",
      "min      1.620000    5.000000  \n",
      "25%      6.927500   17.075000  \n",
      "50%     11.330000   21.200000  \n",
      "75%     16.945000   25.000000  \n",
      "max     37.970000  120.000000  \n"
     ]
    }
   ],
   "source": [
    "data = df.describe()\n",
    "print(data)"
   ]
  },
  {
   "cell_type": "markdown",
   "metadata": {},
   "source": [
    "#### Write code to display the variable type of each column in the dataframe stored as df."
   ]
  },
  {
   "cell_type": "code",
   "execution_count": 6,
   "metadata": {},
   "outputs": [
    {
     "name": "stdout",
     "output_type": "stream",
     "text": [
      "locationid            int64\n",
      "crim                float64\n",
      "zn                  float64\n",
      "indus               float64\n",
      "chas                float64\n",
      "nox                 float64\n",
      "rm                  float64\n",
      "age                 float64\n",
      "dis                 float64\n",
      "rad                 float64\n",
      "tax                 float64\n",
      "ptratio             float64\n",
      "lstat               float64\n",
      "medv                float64\n",
      "date_appraised       object\n",
      "locationzone         object\n",
      "locationdistrict     object\n",
      "dtype: object\n"
     ]
    }
   ],
   "source": [
    "data = df.dtypes\n",
    "print(data)"
   ]
  },
  {
   "cell_type": "markdown",
   "metadata": {},
   "source": [
    "#### Write code to display unique values in the locationzone column in dataframe stored as df."
   ]
  },
  {
   "cell_type": "code",
   "execution_count": 7,
   "metadata": {},
   "outputs": [
    {
     "name": "stdout",
     "output_type": "stream",
     "text": [
      "['N3' 'B2' 'G3' 'D2' 'M3' 'W2' 'F1' 'D3' 'U1' 'H3' 'L2' 'E3' 'K1' 'S2'\n",
      " 'B3' 'S3' 'O3' 'H2' 'S1' 'R1' 'E1' 'B1' 'Q3' 'N1' 'D1' 'G1' 'H1' 'U3'\n",
      " 'M1' 'Q2' 'C3' 'R2' 'O1' 'N2' 'J1' 'M2' 'F3' 'E2' 'C1' 'J3' 'G2' 'L1'\n",
      " 'K2' 'W1' 'C2' 'F2' 'Q1' 'K3' 'O2' 'R3' 'J2' 'U2' 'L3' 'FS' 'F5']\n"
     ]
    }
   ],
   "source": [
    "data = df['locationzone'].unique()\n",
    "print(data)"
   ]
  },
  {
   "cell_type": "markdown",
   "metadata": {},
   "source": [
    "#### Write code to display the unique values in the locationzone column and the number of times each value appears in the dataframe stored as df."
   ]
  },
  {
   "cell_type": "code",
   "execution_count": 8,
   "metadata": {},
   "outputs": [
    {
     "name": "stdout",
     "output_type": "stream",
     "text": [
      "H2    25\n",
      "M2    22\n",
      "E1    22\n",
      "H1    17\n",
      "B1    17\n",
      "M1    17\n",
      "B2    17\n",
      "M3    16\n",
      "B3    15\n",
      "E2    15\n",
      "D2    14\n",
      "H3    14\n",
      "K3    13\n",
      "D1    12\n",
      "Q3    12\n",
      "R1    11\n",
      "L1    11\n",
      "R3    11\n",
      "D3    11\n",
      "W1    10\n",
      "R2    10\n",
      "U1    10\n",
      "N3    10\n",
      "S2     9\n",
      "N1     9\n",
      "E3     9\n",
      "L2     9\n",
      "S1     9\n",
      "Q1     8\n",
      "Q2     8\n",
      "J1     8\n",
      "K1     8\n",
      "W2     7\n",
      "G1     7\n",
      "O1     7\n",
      "J3     7\n",
      "U3     7\n",
      "C2     6\n",
      "C3     5\n",
      "C1     5\n",
      "G2     5\n",
      "F2     5\n",
      "G3     5\n",
      "F3     4\n",
      "N2     4\n",
      "U2     4\n",
      "J2     4\n",
      "O3     3\n",
      "F1     3\n",
      "O2     3\n",
      "S3     2\n",
      "K2     2\n",
      "L3     2\n",
      "FS     1\n",
      "F5     1\n",
      "Name: locationzone, dtype: int64\n"
     ]
    }
   ],
   "source": [
    "data = df['locationzone'].value_counts()\n",
    "print(data)"
   ]
  },
  {
   "cell_type": "markdown",
   "metadata": {},
   "source": [
    "#### Write the code to import the data set Boston_housing_data_clean.csv with the locationid column being an integer. Use print() to see the data set as output. "
   ]
  },
  {
   "cell_type": "code",
   "execution_count": 9,
   "metadata": {},
   "outputs": [
    {
     "name": "stdout",
     "output_type": "stream",
     "text": [
      "     locationid     crim    zn  indus  chas    nox     rm   age      dis  rad  \\\n",
      "0           101  0.00632  18.0   2.31   0.0  0.538  6.575  65.2   4.0900  NaN   \n",
      "1           102  0.02731   0.0   7.07   0.0  0.469  6.421  78.9   4.9671  NaN   \n",
      "2           103  0.02729   0.0   7.07   0.0  0.469  7.185  61.1   4.9671  2.0   \n",
      "3           104  0.03237   0.0   2.18   0.0  0.458  6.998  45.8   6.0622  NaN   \n",
      "4           105  0.06905   0.0   2.18   0.0  0.458  7.147  54.2   6.0622  3.0   \n",
      "..          ...      ...   ...    ...   ...    ...    ...   ...      ...  ...   \n",
      "503         603  0.04527   0.0  11.93   0.0  0.573  6.120  76.7   2.2875  NaN   \n",
      "504         604  0.06076   0.0  11.93   0.0  0.573  6.976  91.0   2.1675  NaN   \n",
      "505         605  0.10959   0.0  11.93   0.0  0.573  6.794  89.3   2.3889  1.0   \n",
      "506         606  0.04741   0.0  11.93   0.0  0.573  6.030  80.8   2.5050  1.0   \n",
      "507         607  0.50000  90.0   2.10   1.0  0.310  9.200   4.3  10.6000  NaN   \n",
      "\n",
      "       tax  ptratio  lstat   medv date_appraised locationzone locationdistrict  \n",
      "0    296.0     15.3   4.98   24.0     2016-03-27           N3                N  \n",
      "1    242.0     17.8   9.14   21.6     2016-03-28           B2                B  \n",
      "2    242.0     17.8   4.03   34.7     2016-03-27           G3                G  \n",
      "3    222.0     18.7   2.94   33.4     2016-03-26           D2                D  \n",
      "4    222.0     18.7   5.33   36.2     2016-03-28           M3                M  \n",
      "..     ...      ...    ...    ...            ...          ...              ...  \n",
      "503  273.0     21.0   9.08   20.6     2016-03-26           R1                R  \n",
      "504  273.0     21.0   5.64   23.9     2016-03-26           M2                M  \n",
      "505  273.0     21.0   6.48   22.0     2016-03-28           S2                S  \n",
      "506  273.0     21.0   7.88   11.9     2016-03-26           W2                W  \n",
      "507  511.0     19.0   1.62  120.0     2016-03-27           F5                F  \n",
      "\n",
      "[508 rows x 17 columns]\n"
     ]
    }
   ],
   "source": [
    "df = pd.read_csv('boston_housing_data.csv', dtype = {'locationid':np.int64})\n",
    "print(df)"
   ]
  },
  {
   "cell_type": "markdown",
   "metadata": {},
   "source": [
    "#### Write code that displays any duplicate rows in the dataframe stored as df."
   ]
  },
  {
   "cell_type": "code",
   "execution_count": 10,
   "metadata": {},
   "outputs": [
    {
     "name": "stdout",
     "output_type": "stream",
     "text": [
      "     locationid     crim    zn  indus  chas    nox     rm   age   dis  rad  \\\n",
      "202         302  0.03445  82.5   2.03   0.0  0.415  6.162  38.4  6.27  2.0   \n",
      "\n",
      "       tax  ptratio  lstat  medv date_appraised locationzone locationdistrict  \n",
      "202  348.0     14.7   7.43  24.1     2016-03-27           M2                M  \n"
     ]
    }
   ],
   "source": [
    "data = df.loc[df.duplicated()]\n",
    "print(data)"
   ]
  },
  {
   "cell_type": "markdown",
   "metadata": {},
   "source": [
    "#### Write code that ensures there are no missing observations in the dataframe stored as df."
   ]
  },
  {
   "cell_type": "code",
   "execution_count": 11,
   "metadata": {},
   "outputs": [
    {
     "name": "stdout",
     "output_type": "stream",
     "text": [
      "locationid            0\n",
      "crim                  0\n",
      "zn                    0\n",
      "indus                 0\n",
      "chas                  0\n",
      "nox                   0\n",
      "rm                    0\n",
      "age                   0\n",
      "dis                   0\n",
      "rad                 208\n",
      "tax                   0\n",
      "ptratio               0\n",
      "lstat                 0\n",
      "medv                  0\n",
      "date_appraised        0\n",
      "locationzone          0\n",
      "locationdistrict      1\n",
      "dtype: int64\n"
     ]
    }
   ],
   "source": [
    "data = df.isnull().sum()\n",
    "print(data)"
   ]
  },
  {
   "cell_type": "markdown",
   "metadata": {},
   "source": [
    "#### Write code that displays the mean value of the medv column per district on March 27, 2016. To do this, limit the dataset to observations that were appraised on March 27, 2016, and create a datasheet that aggregates all the data by the locationdistrict column and displays the mean of medv rounded off to one decimal place."
   ]
  },
  {
   "cell_type": "code",
   "execution_count": 12,
   "metadata": {},
   "outputs": [
    {
     "name": "stdout",
     "output_type": "stream",
     "text": [
      "locationdistrict\n",
      "B    21.9\n",
      "C    22.4\n",
      "D    26.8\n",
      "E    25.3\n",
      "F    41.2\n",
      "G    29.5\n",
      "H    20.8\n",
      "J    19.1\n",
      "K    21.3\n",
      "L    26.9\n",
      "M    23.7\n",
      "N    23.4\n",
      "O    22.4\n",
      "Q    23.6\n",
      "R    19.1\n",
      "S    17.7\n",
      "U    24.2\n",
      "W    22.8\n",
      "Name: medv, dtype: float64\n"
     ]
    }
   ],
   "source": [
    "df2 = df.loc[df['date_appraised'] == '2016-03-27']\n",
    "table = df2.groupby('locationdistrict')['medv'].mean().round(1)\n",
    "print(table)"
   ]
  },
  {
   "cell_type": "markdown",
   "metadata": {},
   "source": [
    "#### Write code to import the dataset iris.csv and display the first five rows."
   ]
  },
  {
   "cell_type": "code",
   "execution_count": 13,
   "metadata": {},
   "outputs": [
    {
     "name": "stdout",
     "output_type": "stream",
     "text": [
      "   Sepal.Length  Sepal.Width  Petal.Length  Petal.Width Species\n",
      "0           5.1          3.5           1.4          0.2  setosa\n",
      "1           4.9          3.0           1.4          0.2  setosa\n",
      "2           4.7          3.2           1.3          0.2  setosa\n",
      "3           4.6          3.1           1.5          0.2  setosa\n",
      "4           5.0          3.6           1.4          0.2  setosa\n"
     ]
    }
   ],
   "source": [
    "df = pd.read_csv('iris.csv')\n",
    "print(df.head())"
   ]
  },
  {
   "cell_type": "markdown",
   "metadata": {},
   "source": [
    "#### Write code that uses the .describe() method on the dataframe stored as df. Print the result."
   ]
  },
  {
   "cell_type": "code",
   "execution_count": 14,
   "metadata": {},
   "outputs": [
    {
     "name": "stdout",
     "output_type": "stream",
     "text": [
      "       Sepal.Length  Sepal.Width  Petal.Length  Petal.Width\n",
      "count    150.000000   150.000000    150.000000   150.000000\n",
      "mean       5.843333     3.057333      3.758000     1.199333\n",
      "std        0.828066     0.435866      1.765298     0.762238\n",
      "min        4.300000     2.000000      1.000000     0.100000\n",
      "25%        5.100000     2.800000      1.600000     0.300000\n",
      "50%        5.800000     3.000000      4.350000     1.300000\n",
      "75%        6.400000     3.300000      5.100000     1.800000\n",
      "max        7.900000     4.400000      6.900000     2.500000\n"
     ]
    }
   ],
   "source": [
    "print(df.describe())"
   ]
  },
  {
   "cell_type": "markdown",
   "metadata": {},
   "source": [
    "#### Write code that uses the dtype attribute in Python pandas to view the column names and data types stored in df. Use the print() function to display the output."
   ]
  },
  {
   "cell_type": "code",
   "execution_count": 15,
   "metadata": {},
   "outputs": [
    {
     "name": "stdout",
     "output_type": "stream",
     "text": [
      "Sepal.Length    float64\n",
      "Sepal.Width     float64\n",
      "Petal.Length    float64\n",
      "Petal.Width     float64\n",
      "Species          object\n",
      "dtype: object\n"
     ]
    }
   ],
   "source": [
    "print(df.dtypes)"
   ]
  },
  {
   "cell_type": "markdown",
   "metadata": {},
   "source": [
    "#### Write the code to import the data set Boston_housing_data.csv and display the first five rows of the data."
   ]
  },
  {
   "cell_type": "code",
   "execution_count": 16,
   "metadata": {},
   "outputs": [
    {
     "name": "stdout",
     "output_type": "stream",
     "text": [
      "   locationid     crim    zn  indus  chas    nox     rm   age     dis  rad  \\\n",
      "0       101.0  0.00632  18.0   2.31   0.0  0.538  6.575  65.2  4.0900  NaN   \n",
      "1       102.0  0.02731   0.0   7.07   0.0  0.469  6.421  78.9  4.9671  NaN   \n",
      "2       103.0  0.02729   0.0   7.07   0.0  0.469  7.185  61.1  4.9671  2.0   \n",
      "3       104.0  0.03237   0.0   2.18   0.0  0.458  6.998  45.8  6.0622  NaN   \n",
      "4       105.0  0.06905   0.0   2.18   0.0  0.458  7.147  54.2  6.0622  3.0   \n",
      "\n",
      "     tax  ptratio  lstat  medv date_appraised locationzone locationdistrict  \n",
      "0  296.0     15.3   4.98  24.0     2016-03-27           N3                N  \n",
      "1  242.0     17.8   9.14  21.6     2016-03-28           B2                B  \n",
      "2  242.0     17.8   4.03  34.7     2016-03-27           G3                G  \n",
      "3  222.0     18.7   2.94  33.4     2016-03-26           D2                D  \n",
      "4  222.0     18.7   5.33  36.2     2016-03-28           M3                M  \n"
     ]
    }
   ],
   "source": [
    "df = pd.read_csv('boston_housing_data.csv')\n",
    "print(df.head())"
   ]
  },
  {
   "cell_type": "markdown",
   "metadata": {},
   "source": [
    "#### Write the code to identify the columns with the missing data and display the number of values that are missing from every column in the data set Boston_housing_data.csv."
   ]
  },
  {
   "cell_type": "code",
   "execution_count": 17,
   "metadata": {},
   "outputs": [
    {
     "name": "stdout",
     "output_type": "stream",
     "text": [
      "locationid            0\n",
      "crim                  0\n",
      "zn                    0\n",
      "indus                 0\n",
      "chas                  0\n",
      "nox                   0\n",
      "rm                    0\n",
      "age                   0\n",
      "dis                   0\n",
      "rad                 208\n",
      "tax                   0\n",
      "ptratio               0\n",
      "lstat                 0\n",
      "medv                  0\n",
      "date_appraised        0\n",
      "locationzone          0\n",
      "locationdistrict      1\n",
      "dtype: int64\n"
     ]
    }
   ],
   "source": [
    "data = df.isnull().sum()\n",
    "print(data)"
   ]
  },
  {
   "cell_type": "markdown",
   "metadata": {},
   "source": [
    "#### Write the code to identify the standard deviation of every numeric column in the data set Boston_housing_data.csv."
   ]
  },
  {
   "cell_type": "code",
   "execution_count": 18,
   "metadata": {},
   "outputs": [
    {
     "name": "stdout",
     "output_type": "stream",
     "text": [
      "locationid    146.376192\n",
      "crim            8.587137\n",
      "zn             23.746192\n",
      "indus           6.870382\n",
      "chas            0.256854\n",
      "nox             0.116321\n",
      "rm              0.713083\n",
      "age            28.269108\n",
      "dis             2.125937\n",
      "rad             8.927976\n",
      "tax           168.287515\n",
      "ptratio         2.167225\n",
      "lstat           7.147480\n",
      "medv           10.146783\n",
      "dtype: float64\n"
     ]
    }
   ],
   "source": [
    "data = df.std()\n",
    "print(data)"
   ]
  },
  {
   "cell_type": "markdown",
   "metadata": {},
   "source": [
    "#### Write code that displays all the duplicated rows in the dataframe stored as df."
   ]
  },
  {
   "cell_type": "code",
   "execution_count": 19,
   "metadata": {},
   "outputs": [
    {
     "name": "stdout",
     "output_type": "stream",
     "text": [
      "     locationid     crim    zn  indus  chas    nox     rm   age   dis  rad  \\\n",
      "202       302.0  0.03445  82.5   2.03   0.0  0.415  6.162  38.4  6.27  2.0   \n",
      "\n",
      "       tax  ptratio  lstat  medv date_appraised locationzone locationdistrict  \n",
      "202  348.0     14.7   7.43  24.1     2016-03-27           M2                M  \n"
     ]
    }
   ],
   "source": [
    "data = df.loc[df.duplicated()]\n",
    "print(data)"
   ]
  },
  {
   "cell_type": "markdown",
   "metadata": {},
   "source": [
    "#### Write code to drop all the duplicates in the dataframe stored as df."
   ]
  },
  {
   "cell_type": "code",
   "execution_count": 20,
   "metadata": {},
   "outputs": [],
   "source": [
    "df.drop_duplicates(inplace=True)"
   ]
  },
  {
   "cell_type": "code",
   "execution_count": 21,
   "metadata": {},
   "outputs": [
    {
     "name": "stdout",
     "output_type": "stream",
     "text": [
      "Empty DataFrame\n",
      "Columns: [locationid, crim, zn, indus, chas, nox, rm, age, dis, rad, tax, ptratio, lstat, medv, date_appraised, locationzone, locationdistrict]\n",
      "Index: []\n"
     ]
    }
   ],
   "source": [
    "data = df.loc[df.duplicated()]\n",
    "print(data)"
   ]
  },
  {
   "cell_type": "markdown",
   "metadata": {},
   "source": [
    "#### Define an outlier as a value whose z-score value is greater than 3 or less than -3 and write code that displays rows with outliers in the medv column of the dataframe stored as df."
   ]
  },
  {
   "cell_type": "code",
   "execution_count": 22,
   "metadata": {},
   "outputs": [
    {
     "name": "stdout",
     "output_type": "stream",
     "text": [
      "     locationid  crim    zn  indus  chas   nox   rm  age   dis  rad    tax  \\\n",
      "507       607.0   0.5  90.0    2.1   1.0  0.31  9.2  4.3  10.6  NaN  511.0   \n",
      "\n",
      "     ptratio  lstat   medv date_appraised locationzone locationdistrict  \n",
      "507     19.0   1.62  120.0     2016-03-27           F5                F  \n"
     ]
    }
   ],
   "source": [
    "medv_zscore = (df['medv'] - df['medv'].mean()) / df['medv'].std()\n",
    "data = df.loc[(medv_zscore > 3) | (medv_zscore < -3)]\n",
    "print(data)"
   ]
  },
  {
   "cell_type": "markdown",
   "metadata": {},
   "source": [
    "#### Write code to define an outlier as a variable whose z-score value is greater than 3 or less than -3, then eliminate the rows that contain outliers in the medv column of the dataframe stored as df."
   ]
  },
  {
   "cell_type": "code",
   "execution_count": 23,
   "metadata": {},
   "outputs": [],
   "source": [
    "medv_zscore = (df['medv'] - df['medv'].mean()) / df['medv'].std()\n",
    "df = df.loc[(medv_zscore <= 3) & (medv_zscore >= -3)]"
   ]
  },
  {
   "cell_type": "markdown",
   "metadata": {},
   "source": [
    "#### Write code to drop the rad column from the dataframe stored as df as it contains a significant amount of missing data."
   ]
  },
  {
   "cell_type": "code",
   "execution_count": 24,
   "metadata": {},
   "outputs": [],
   "source": [
    "df = pd.read_csv('boston_housing_data.csv')\n",
    "df.drop(columns='rad', inplace=True)"
   ]
  },
  {
   "cell_type": "code",
   "execution_count": 25,
   "metadata": {},
   "outputs": [
    {
     "data": {
      "text/html": [
       "<div>\n",
       "<style scoped>\n",
       "    .dataframe tbody tr th:only-of-type {\n",
       "        vertical-align: middle;\n",
       "    }\n",
       "\n",
       "    .dataframe tbody tr th {\n",
       "        vertical-align: top;\n",
       "    }\n",
       "\n",
       "    .dataframe thead th {\n",
       "        text-align: right;\n",
       "    }\n",
       "</style>\n",
       "<table border=\"1\" class=\"dataframe\">\n",
       "  <thead>\n",
       "    <tr style=\"text-align: right;\">\n",
       "      <th></th>\n",
       "      <th>locationid</th>\n",
       "      <th>crim</th>\n",
       "      <th>zn</th>\n",
       "      <th>indus</th>\n",
       "      <th>chas</th>\n",
       "      <th>nox</th>\n",
       "      <th>rm</th>\n",
       "      <th>age</th>\n",
       "      <th>dis</th>\n",
       "      <th>tax</th>\n",
       "      <th>ptratio</th>\n",
       "      <th>lstat</th>\n",
       "      <th>medv</th>\n",
       "      <th>date_appraised</th>\n",
       "      <th>locationzone</th>\n",
       "      <th>locationdistrict</th>\n",
       "    </tr>\n",
       "  </thead>\n",
       "  <tbody>\n",
       "    <tr>\n",
       "      <th>0</th>\n",
       "      <td>101.0</td>\n",
       "      <td>0.00632</td>\n",
       "      <td>18.0</td>\n",
       "      <td>2.31</td>\n",
       "      <td>0.0</td>\n",
       "      <td>0.538</td>\n",
       "      <td>6.575</td>\n",
       "      <td>65.2</td>\n",
       "      <td>4.0900</td>\n",
       "      <td>296.0</td>\n",
       "      <td>15.3</td>\n",
       "      <td>4.98</td>\n",
       "      <td>24.0</td>\n",
       "      <td>2016-03-27</td>\n",
       "      <td>N3</td>\n",
       "      <td>N</td>\n",
       "    </tr>\n",
       "    <tr>\n",
       "      <th>1</th>\n",
       "      <td>102.0</td>\n",
       "      <td>0.02731</td>\n",
       "      <td>0.0</td>\n",
       "      <td>7.07</td>\n",
       "      <td>0.0</td>\n",
       "      <td>0.469</td>\n",
       "      <td>6.421</td>\n",
       "      <td>78.9</td>\n",
       "      <td>4.9671</td>\n",
       "      <td>242.0</td>\n",
       "      <td>17.8</td>\n",
       "      <td>9.14</td>\n",
       "      <td>21.6</td>\n",
       "      <td>2016-03-28</td>\n",
       "      <td>B2</td>\n",
       "      <td>B</td>\n",
       "    </tr>\n",
       "    <tr>\n",
       "      <th>2</th>\n",
       "      <td>103.0</td>\n",
       "      <td>0.02729</td>\n",
       "      <td>0.0</td>\n",
       "      <td>7.07</td>\n",
       "      <td>0.0</td>\n",
       "      <td>0.469</td>\n",
       "      <td>7.185</td>\n",
       "      <td>61.1</td>\n",
       "      <td>4.9671</td>\n",
       "      <td>242.0</td>\n",
       "      <td>17.8</td>\n",
       "      <td>4.03</td>\n",
       "      <td>34.7</td>\n",
       "      <td>2016-03-27</td>\n",
       "      <td>G3</td>\n",
       "      <td>G</td>\n",
       "    </tr>\n",
       "    <tr>\n",
       "      <th>3</th>\n",
       "      <td>104.0</td>\n",
       "      <td>0.03237</td>\n",
       "      <td>0.0</td>\n",
       "      <td>2.18</td>\n",
       "      <td>0.0</td>\n",
       "      <td>0.458</td>\n",
       "      <td>6.998</td>\n",
       "      <td>45.8</td>\n",
       "      <td>6.0622</td>\n",
       "      <td>222.0</td>\n",
       "      <td>18.7</td>\n",
       "      <td>2.94</td>\n",
       "      <td>33.4</td>\n",
       "      <td>2016-03-26</td>\n",
       "      <td>D2</td>\n",
       "      <td>D</td>\n",
       "    </tr>\n",
       "    <tr>\n",
       "      <th>4</th>\n",
       "      <td>105.0</td>\n",
       "      <td>0.06905</td>\n",
       "      <td>0.0</td>\n",
       "      <td>2.18</td>\n",
       "      <td>0.0</td>\n",
       "      <td>0.458</td>\n",
       "      <td>7.147</td>\n",
       "      <td>54.2</td>\n",
       "      <td>6.0622</td>\n",
       "      <td>222.0</td>\n",
       "      <td>18.7</td>\n",
       "      <td>5.33</td>\n",
       "      <td>36.2</td>\n",
       "      <td>2016-03-28</td>\n",
       "      <td>M3</td>\n",
       "      <td>M</td>\n",
       "    </tr>\n",
       "  </tbody>\n",
       "</table>\n",
       "</div>"
      ],
      "text/plain": [
       "   locationid     crim    zn  indus  chas    nox     rm   age     dis    tax  \\\n",
       "0       101.0  0.00632  18.0   2.31   0.0  0.538  6.575  65.2  4.0900  296.0   \n",
       "1       102.0  0.02731   0.0   7.07   0.0  0.469  6.421  78.9  4.9671  242.0   \n",
       "2       103.0  0.02729   0.0   7.07   0.0  0.469  7.185  61.1  4.9671  242.0   \n",
       "3       104.0  0.03237   0.0   2.18   0.0  0.458  6.998  45.8  6.0622  222.0   \n",
       "4       105.0  0.06905   0.0   2.18   0.0  0.458  7.147  54.2  6.0622  222.0   \n",
       "\n",
       "   ptratio  lstat  medv date_appraised locationzone locationdistrict  \n",
       "0     15.3   4.98  24.0     2016-03-27           N3                N  \n",
       "1     17.8   9.14  21.6     2016-03-28           B2                B  \n",
       "2     17.8   4.03  34.7     2016-03-27           G3                G  \n",
       "3     18.7   2.94  33.4     2016-03-26           D2                D  \n",
       "4     18.7   5.33  36.2     2016-03-28           M3                M  "
      ]
     },
     "execution_count": 25,
     "metadata": {},
     "output_type": "execute_result"
    }
   ],
   "source": [
    "df.head()"
   ]
  },
  {
   "cell_type": "markdown",
   "metadata": {},
   "source": [
    "#### According to business rules, all the values in the locationzone column of df should contain only two characters. The first character should be a letter between A-Z and the second character should be a number between 0-9. There are some values in the locationzone column having the incorrect second character. Write code to make the incorrect values in the locationzone column to default to 5 as the second character (example: an incorrect “BT” value would be changed to “B5”)."
   ]
  },
  {
   "cell_type": "code",
   "execution_count": 26,
   "metadata": {},
   "outputs": [
    {
     "name": "stdout",
     "output_type": "stream",
     "text": [
      "0      N3\n",
      "1      B2\n",
      "2      G3\n",
      "3      D2\n",
      "4      M3\n",
      "       ..\n",
      "503    R1\n",
      "504    M2\n",
      "505    S2\n",
      "506    W2\n",
      "507    F5\n",
      "Name: locationzone, Length: 508, dtype: object\n"
     ]
    }
   ],
   "source": [
    "df['locationzone'] = [i if i[1] in '0123456789' else i[0] + '5' for i in df['locationzone']]\n",
    "print(df['locationzone'])"
   ]
  },
  {
   "cell_type": "markdown",
   "metadata": {},
   "source": [
    "#### Imputing the missing values:  There are missing values in the locationdistrict column. Redefine all missing values in locationdistrict to be the first character in the locationzone column."
   ]
  },
  {
   "cell_type": "code",
   "execution_count": 27,
   "metadata": {},
   "outputs": [
    {
     "name": "stdout",
     "output_type": "stream",
     "text": [
      "['N' 'B' 'G' 'D' 'M' 'W' 'F' 'U' 'H' 'L' 'E' 'K' 'S' 'O' 'R' 'Q' 'C' 'J']\n"
     ]
    }
   ],
   "source": [
    "df.loc[df['locationdistrict'].isnull(),'locationdistrict'] = df.loc[df['locationdistrict'].isnull(),'locationzone'].apply(lambda x: x[0])\n",
    "print(df['locationdistrict'].unique())"
   ]
  },
  {
   "cell_type": "markdown",
   "metadata": {},
   "source": [
    "#### Creating a separate dataset:  \n",
    "Write code to create a separate dataset called df2 that stores information about locationzone, locationdistrict, date_appraised, and medv for the sectors H, J, and N from the dataframe stored as df."
   ]
  },
  {
   "cell_type": "code",
   "execution_count": 28,
   "metadata": {},
   "outputs": [],
   "source": [
    "df2 = df.loc[df['locationdistrict'].isin(['H', 'J', 'N'])][['locationzone','locationdistrict','date_appraised','medv']]"
   ]
  },
  {
   "cell_type": "markdown",
   "metadata": {},
   "source": [
    "#### Importing the dataset\n",
    "Write the code to import the dataset Boston_housing_data_clean.csv and display the first five rows of data. Read the locationid column as an integer by specifying the dtype parameter in the read_csv() method.\n"
   ]
  },
  {
   "cell_type": "code",
   "execution_count": 29,
   "metadata": {},
   "outputs": [
    {
     "name": "stdout",
     "output_type": "stream",
     "text": [
      "   locationid     crim    zn  indus  chas    nox     rm   age     dis  rad  \\\n",
      "0         101  0.00632  18.0   2.31   0.0  0.538  6.575  65.2  4.0900  NaN   \n",
      "1         102  0.02731   0.0   7.07   0.0  0.469  6.421  78.9  4.9671  NaN   \n",
      "2         103  0.02729   0.0   7.07   0.0  0.469  7.185  61.1  4.9671  2.0   \n",
      "3         104  0.03237   0.0   2.18   0.0  0.458  6.998  45.8  6.0622  NaN   \n",
      "4         105  0.06905   0.0   2.18   0.0  0.458  7.147  54.2  6.0622  3.0   \n",
      "\n",
      "     tax  ptratio  lstat  medv date_appraised locationzone locationdistrict  \n",
      "0  296.0     15.3   4.98  24.0     2016-03-27           N3                N  \n",
      "1  242.0     17.8   9.14  21.6     2016-03-28           B2                B  \n",
      "2  242.0     17.8   4.03  34.7     2016-03-27           G3                G  \n",
      "3  222.0     18.7   2.94  33.4     2016-03-26           D2                D  \n",
      "4  222.0     18.7   5.33  36.2     2016-03-28           M3                M  \n"
     ]
    }
   ],
   "source": [
    "df = pd.read_csv('boston_housing_data.csv', dtype={'locationid':np.int64})\n",
    "data = df.head(5)\n",
    "print(data)"
   ]
  },
  {
   "cell_type": "markdown",
   "metadata": {},
   "source": [
    "#### Displaying the values\n",
    "Question 27 :\n",
    "Write code to display the values of the locationdistrict column and the corresponding value of the locationzone column in the dataframe stored as df."
   ]
  },
  {
   "cell_type": "code",
   "execution_count": 30,
   "metadata": {},
   "outputs": [
    {
     "name": "stdout",
     "output_type": "stream",
     "text": [
      "locationzone  locationdistrict\n",
      "B1            B                   17\n",
      "B2            B                   17\n",
      "B3            B                   15\n",
      "C1            C                    5\n",
      "C2            C                    6\n",
      "C3            C                    5\n",
      "D1            D                   12\n",
      "D2            D                   14\n",
      "D3            D                   11\n",
      "E1            E                   22\n",
      "E2            E                   15\n",
      "E3            E                    9\n",
      "F1            F                    3\n",
      "F2            F                    5\n",
      "F3            F                    4\n",
      "F5            F                    1\n",
      "G1            G                    7\n",
      "G2            G                    5\n",
      "G3            G                    5\n",
      "H1            H                   17\n",
      "H2            H                   25\n",
      "H3            H                   14\n",
      "J1            J                    8\n",
      "J2            J                    4\n",
      "J3            J                    7\n",
      "K1            K                    8\n",
      "K2            K                    2\n",
      "K3            K                   13\n",
      "L1            L                   11\n",
      "L2            L                    9\n",
      "L3            L                    2\n",
      "M1            M                   17\n",
      "M2            M                   22\n",
      "M3            M                   16\n",
      "N1            N                    9\n",
      "N2            N                    4\n",
      "N3            N                   10\n",
      "O1            O                    7\n",
      "O2            O                    3\n",
      "O3            O                    3\n",
      "Q1            Q                    8\n",
      "Q2            Q                    8\n",
      "Q3            Q                   12\n",
      "R1            R                   11\n",
      "R2            R                   10\n",
      "R3            R                   11\n",
      "S1            S                    9\n",
      "S2            S                    9\n",
      "S3            S                    2\n",
      "U1            U                   10\n",
      "U2            U                    4\n",
      "U3            U                    7\n",
      "W1            W                   10\n",
      "W2            W                    7\n",
      "dtype: int64\n"
     ]
    }
   ],
   "source": [
    "df = df.groupby(['locationzone', 'locationdistrict']).size()\n",
    "print(df)"
   ]
  },
  {
   "cell_type": "markdown",
   "metadata": {},
   "source": [
    "#### Displaying the length\n",
    "Question 28 :\n",
    "Write code that displays all unique lengths of the values in the locationid column.\n"
   ]
  },
  {
   "cell_type": "code",
   "execution_count": 31,
   "metadata": {},
   "outputs": [
    {
     "name": "stdout",
     "output_type": "stream",
     "text": [
      "[3]\n"
     ]
    }
   ],
   "source": [
    "df = pd.read_csv('boston_housing_data_clean.csv',dtype={'locationid':np.int64})\n",
    "data = df['locationid'].astype(str).str.len().unique() \n",
    "print(data)"
   ]
  },
  {
   "cell_type": "markdown",
   "metadata": {},
   "source": [
    "#### Ensuring column values\n",
    "Question 29 :\n",
    "Write code to ensure all the values in the date_appraised column of the dataframe stored as df are in YYYY-mm-dd format by calling the .unique() method."
   ]
  },
  {
   "cell_type": "code",
   "execution_count": 32,
   "metadata": {},
   "outputs": [
    {
     "name": "stdout",
     "output_type": "stream",
     "text": [
      "0      2016-03-27\n",
      "1      2016-03-28\n",
      "2      2016-03-27\n",
      "3      2016-03-26\n",
      "4      2016-03-28\n",
      "          ...    \n",
      "501    2016-03-27\n",
      "502    2016-03-26\n",
      "503    2016-03-26\n",
      "504    2016-03-28\n",
      "505    2016-03-26\n",
      "Name: date_appraised, Length: 506, dtype: object\n"
     ]
    }
   ],
   "source": [
    "df['date_appraised'].unique()\n",
    "print(df['date_appraised'])"
   ]
  },
  {
   "cell_type": "markdown",
   "metadata": {},
   "source": [
    "#### Creating a new column\n",
    "Question 30 :\n",
    "Write the code to create a new column month_appraised in the data set Boston_housing_data_clean.csv that stores the values in the YYYY-mm format. Ensure the resulting column is a str type."
   ]
  },
  {
   "cell_type": "code",
   "execution_count": 33,
   "metadata": {},
   "outputs": [
    {
     "data": {
      "text/plain": [
       "array(['2016-03'], dtype=object)"
      ]
     },
     "execution_count": 33,
     "metadata": {},
     "output_type": "execute_result"
    }
   ],
   "source": [
    "df['month_appraised'] = df['date_appraised'].apply(lambda x: str(x)[:7])\n",
    "df['month_appraised'].unique()"
   ]
  },
  {
   "cell_type": "markdown",
   "metadata": {},
   "source": [
    "#### Importing the dataset\n",
    "Question 31 :\n",
    "Write the code to import the data set Boston_housing_data_clean.csv and display the first five rows of data. Read the locationid column as an integer by specifying the dtype parameter in the read_csv() method."
   ]
  },
  {
   "cell_type": "code",
   "execution_count": 34,
   "metadata": {},
   "outputs": [
    {
     "name": "stdout",
     "output_type": "stream",
     "text": [
      "   locationid     crim    zn  indus  chas    nox     rm   age     dis    tax  \\\n",
      "0         101  0.00632  18.0   2.31   0.0  0.538  6.575  65.2  4.0900  296.0   \n",
      "1         102  0.02731   0.0   7.07   0.0  0.469  6.421  78.9  4.9671  242.0   \n",
      "2         103  0.02729   0.0   7.07   0.0  0.469  7.185  61.1  4.9671  242.0   \n",
      "3         104  0.03237   0.0   2.18   0.0  0.458  6.998  45.8  6.0622  222.0   \n",
      "4         105  0.06905   0.0   2.18   0.0  0.458  7.147  54.2  6.0622  222.0   \n",
      "\n",
      "   ptratio  lstat  medv date_appraised locationzone locationdistrict  \n",
      "0     15.3   4.98  24.0     2016-03-27           N3                N  \n",
      "1     17.8   9.14  21.6     2016-03-28           B2                B  \n",
      "2     17.8   4.03  34.7     2016-03-27           G3                G  \n",
      "3     18.7   2.94  33.4     2016-03-26           D2                D  \n",
      "4     18.7   5.33  36.2     2016-03-28           M3                M  \n"
     ]
    }
   ],
   "source": [
    "df = pd.read_csv('boston_housing_data_clean.csv', dtype={'locationid': np.int64})\n",
    "data = df.head(5)\n",
    "print(data)"
   ]
  },
  {
   "cell_type": "markdown",
   "metadata": {},
   "source": [
    "#### Displaying the types of data\n",
    "Question 32 :\n",
    "Write code to display the types of data for each column in the dataframe stored as df."
   ]
  },
  {
   "cell_type": "code",
   "execution_count": 35,
   "metadata": {},
   "outputs": [
    {
     "name": "stdout",
     "output_type": "stream",
     "text": [
      "locationid            int64\n",
      "crim                float64\n",
      "zn                  float64\n",
      "indus               float64\n",
      "chas                float64\n",
      "nox                 float64\n",
      "rm                  float64\n",
      "age                 float64\n",
      "dis                 float64\n",
      "tax                 float64\n",
      "ptratio             float64\n",
      "lstat               float64\n",
      "medv                float64\n",
      "date_appraised       object\n",
      "locationzone         object\n",
      "locationdistrict     object\n",
      "dtype: object\n"
     ]
    }
   ],
   "source": [
    "# data = df.info() or\n",
    "data = df.dtypes\n",
    "print(data)"
   ]
  },
  {
   "cell_type": "markdown",
   "metadata": {},
   "source": [
    "#### Changing the data type\n",
    "Question 33 :\n",
    "Write code to change the data type of the locationid column from numeric to string in the dataframe stored as df."
   ]
  },
  {
   "cell_type": "code",
   "execution_count": 36,
   "metadata": {},
   "outputs": [],
   "source": [
    "df['locationid'] = df['locationid'].astype(str)"
   ]
  },
  {
   "cell_type": "markdown",
   "metadata": {},
   "source": [
    "#### Ensuring date format\n",
    "Question 34 :\n",
    "Write code that ensures all the date_apparaised column in the dataframe stored as df is in date format."
   ]
  },
  {
   "cell_type": "code",
   "execution_count": 37,
   "metadata": {},
   "outputs": [],
   "source": [
    "df = pd.read_csv('boston_housing_data_clean.csv', dtype={'locationid':np.int64})\n",
    "df['date_appraised'] = pd.to_datetime(df['date_appraised'])"
   ]
  },
  {
   "cell_type": "markdown",
   "metadata": {},
   "source": [
    "#### Importing the dataset\n",
    "Question 35 :\n",
    "Write the code to import the dataset Boston_housing_data_clean2.csv."
   ]
  },
  {
   "cell_type": "code",
   "execution_count": 38,
   "metadata": {},
   "outputs": [],
   "source": [
    "df = pd.read_csv('boston_housing_data_clean2.csv')"
   ]
  },
  {
   "cell_type": "markdown",
   "metadata": {},
   "source": [
    "#### Creating the histograms\n",
    "Question 36 :\n",
    "Write code to create the histograms for medv, nox, and crim in the dataframe stored as df."
   ]
  },
  {
   "cell_type": "code",
   "execution_count": 39,
   "metadata": {},
   "outputs": [
    {
     "name": "stderr",
     "output_type": "stream",
     "text": [
      "findfont: Font family ['sans-serif'] not found. Falling back to DejaVu Sans.\n",
      "findfont: Font family ['sans-serif'] not found. Falling back to DejaVu Sans.\n"
     ]
    },
    {
     "data": {
      "image/png": "[encoded data removed]",
      "text/plain": [
       "<Figure size 840x480 with 4 Axes>"
      ]
     },
     "metadata": {
      "image/png": {
       "height": 440,
       "width": 718
      },
      "needs_background": "dark"
     },
     "output_type": "display_data"
    }
   ],
   "source": [
    "df[['medv', 'nox', 'crim']].hist()\n",
    "plt.savefig('uc_pyplot.jpg')\n",
    "# plt.close()"
   ]
  },
  {
   "cell_type": "markdown",
   "metadata": {},
   "source": [
    "#### Displaying a bar chart\n",
    "Question 37 :\n",
    "Write the code to display a bar chart that shows the total number of records by date_appraised."
   ]
  },
  {
   "cell_type": "code",
   "execution_count": 40,
   "metadata": {},
   "outputs": [
    {
     "data": {
      "text/plain": [
       "<matplotlib.axes._subplots.AxesSubplot at 0x1a271a46f48>"
      ]
     },
     "execution_count": 40,
     "metadata": {},
     "output_type": "execute_result"
    },
    {
     "data": {
      "image/png": "[encoded data removed]",
      "text/plain": [
       "<Figure size 840x480 with 1 Axes>"
      ]
     },
     "metadata": {
      "image/png": {
       "height": 507,
       "width": 718
      },
      "needs_background": "dark"
     },
     "output_type": "display_data"
    }
   ],
   "source": [
    "df.groupby('date_appraised').size().plot.bar()"
   ]
  },
  {
   "cell_type": "markdown",
   "metadata": {},
   "source": [
    "#### Plotting a bar chart\n",
    "Question 38 :\n",
    "Write the code to display a bar chart that shows the total number of records by locationdistrict."
   ]
  },
  {
   "cell_type": "code",
   "execution_count": 41,
   "metadata": {},
   "outputs": [
    {
     "data": {
      "text/plain": [
       "<matplotlib.axes._subplots.AxesSubplot at 0x1a271863508>"
      ]
     },
     "execution_count": 41,
     "metadata": {},
     "output_type": "execute_result"
    },
    {
     "data": {
      "image/png": "[encoded data removed]",
      "text/plain": [
       "<Figure size 840x480 with 1 Axes>"
      ]
     },
     "metadata": {
      "image/png": {
       "height": 437,
       "width": 707
      },
      "needs_background": "dark"
     },
     "output_type": "display_data"
    }
   ],
   "source": [
    "df.groupby('locationdistrict').size().plot.bar()"
   ]
  },
  {
   "cell_type": "markdown",
   "metadata": {},
   "source": [
    "#### Displaying maximum value\n",
    "Question 39 :\n",
    "Write the code to display the maximum value of the nox column by zone in the dataframe stored as df. Plot a bar chart to display the results."
   ]
  },
  {
   "cell_type": "code",
   "execution_count": 42,
   "metadata": {},
   "outputs": [
    {
     "data": {
      "image/png": "[encoded data removed]",
      "text/plain": [
       "<Figure size 840x480 with 1 Axes>"
      ]
     },
     "metadata": {
      "image/png": {
       "height": 448,
       "width": 715
      },
      "needs_background": "dark"
     },
     "output_type": "display_data"
    }
   ],
   "source": [
    "df.groupby('locationzone')['nox'].max().plot.bar()\n",
    "plt.savefig('uc_pyplot.jpg')"
   ]
  },
  {
   "cell_type": "markdown",
   "metadata": {},
   "source": [
    "#### Plotting a boxplot\n",
    "Question 40 :\n",
    "Write code to plot a boxplot for the medv and crim columns of the dataframe stored as df."
   ]
  },
  {
   "cell_type": "code",
   "execution_count": 43,
   "metadata": {},
   "outputs": [
    {
     "data": {
      "image/png": "[encoded data removed]",
      "text/plain": [
       "<Figure size 840x480 with 1 Axes>"
      ]
     },
     "metadata": {
      "image/png": {
       "height": 414,
       "width": 718
      },
      "needs_background": "dark"
     },
     "output_type": "display_data"
    }
   ],
   "source": [
    "df.boxplot(['medv', 'crim'])\n",
    "plt.savefig('uc_pyplot.jpg')"
   ]
  },
  {
   "cell_type": "markdown",
   "metadata": {},
   "source": [
    "#### Importing the dataset\n",
    "Question 41 :\n",
    "Write the code to import the dataset iris.csv."
   ]
  },
  {
   "cell_type": "code",
   "execution_count": 44,
   "metadata": {},
   "outputs": [],
   "source": [
    "df = pd.read_csv('iris.csv')"
   ]
  },
  {
   "cell_type": "markdown",
   "metadata": {},
   "source": [
    "#### Plotting a boxplot\n",
    "Question 42 :\n",
    "Write code that displays box plots of the differences in the Sepal.Width column values by species. Do you notice any outliers?"
   ]
  },
  {
   "cell_type": "code",
   "execution_count": 45,
   "metadata": {},
   "outputs": [
    {
     "ename": "NameError",
     "evalue": "name 'sns' is not defined",
     "output_type": "error",
     "traceback": [
      "\u001b[1;31m---------------------------------------------------------------------------\u001b[0m",
      "\u001b[1;31mNameError\u001b[0m                                 Traceback (most recent call last)",
      "\u001b[1;32m<ipython-input-45-0ba7825738ed>\u001b[0m in \u001b[0;36m<module>\u001b[1;34m\u001b[0m\n\u001b[1;32m----> 1\u001b[1;33m \u001b[0msns\u001b[0m\u001b[1;33m.\u001b[0m\u001b[0mboxplot\u001b[0m\u001b[1;33m(\u001b[0m\u001b[0mx\u001b[0m\u001b[1;33m=\u001b[0m\u001b[1;34m'Species'\u001b[0m\u001b[1;33m,\u001b[0m \u001b[0my\u001b[0m\u001b[1;33m=\u001b[0m\u001b[1;34m'Sepal.Width'\u001b[0m\u001b[1;33m,\u001b[0m \u001b[0mdata\u001b[0m\u001b[1;33m=\u001b[0m\u001b[0mdf\u001b[0m\u001b[1;33m)\u001b[0m\u001b[1;33m\u001b[0m\u001b[1;33m\u001b[0m\u001b[0m\n\u001b[0m\u001b[0;32m      2\u001b[0m \u001b[0mplt\u001b[0m\u001b[1;33m.\u001b[0m\u001b[0mshow\u001b[0m\u001b[1;33m(\u001b[0m\u001b[1;33m)\u001b[0m\u001b[1;33m\u001b[0m\u001b[1;33m\u001b[0m\u001b[0m\n",
      "\u001b[1;31mNameError\u001b[0m: name 'sns' is not defined"
     ]
    }
   ],
   "source": [
    "sns.boxplot(x='Species', y='Sepal.Width', data=df)\n",
    "plt.show()"
   ]
  },
  {
   "cell_type": "markdown",
   "metadata": {},
   "source": [
    "#### Importing the dataset\n",
    "Question 43 :\n",
    "Write the code to import the dataset Boston_housing_data_missing_medv_values.csv."
   ]
  },
  {
   "cell_type": "code",
   "execution_count": null,
   "metadata": {},
   "outputs": [],
   "source": [
    "df = pd.read_csv('Boston_housing_data_missing_medv_values.csv')"
   ]
  },
  {
   "cell_type": "markdown",
   "metadata": {},
   "source": [
    "#### Identifying missing values\n",
    "Question 44 :\n",
    "Write code to identify the missing values in the medv column of the dataframe stored as df."
   ]
  },
  {
   "cell_type": "code",
   "execution_count": null,
   "metadata": {},
   "outputs": [],
   "source": [
    "df = pd.read_csv('Boston_housing_data_missing_medv_values.csv', dtype={'locationid':str})\n",
    "data = df.loc[df['medv'].isnull()]\n",
    "print(data)"
   ]
  },
  {
   "cell_type": "markdown",
   "metadata": {},
   "source": [
    "#### Removing rows\n",
    "Question 45 :\n",
    "Write code to remove all rows containing missing values in the medv column of the dataframe stored as df."
   ]
  },
  {
   "cell_type": "code",
   "execution_count": null,
   "metadata": {},
   "outputs": [],
   "source": [
    "df = pd.read_csv('Boston_housing_data_missing_medv_values.csv', dtype={'locationid':str})\n",
    "df.dropna(subset=['medv'], inplace=True)"
   ]
  },
  {
   "cell_type": "markdown",
   "metadata": {},
   "source": [
    "#### Imputing the rows\n",
    "Question 46 :\n",
    "Write code to impute missing values in the medv column with the column's mean value."
   ]
  },
  {
   "cell_type": "code",
   "execution_count": 46,
   "metadata": {},
   "outputs": [
    {
     "name": "stdout",
     "output_type": "stream",
     "text": [
      "     locationid     crim    zn  indus  chas    nox     rm   age      dis  rad  \\\n",
      "0           101  0.00632  18.0   2.31     0  0.538  6.575  65.2   4.0900  NaN   \n",
      "1           102  0.02731   0.0   7.07     0  0.469  6.421  78.9   4.9671  NaN   \n",
      "2           103  0.02729   0.0   7.07     0  0.469  7.185  61.1   4.9671  2.0   \n",
      "3           104  0.03237   0.0   2.18     0  0.458  6.998  45.8   6.0622  NaN   \n",
      "4           105  0.06905   0.0   2.18     0  0.458  7.147  54.2   6.0622  3.0   \n",
      "..          ...      ...   ...    ...   ...    ...    ...   ...      ...  ...   \n",
      "503         604  0.06076   0.0  11.93     0  0.573  6.976  91.0   2.1675  NaN   \n",
      "504         605  0.10959   0.0  11.93     0  0.573  6.794  89.3   2.3889  1.0   \n",
      "505         606  0.04741   0.0  11.93     0  0.573  6.030  80.8   2.5050  1.0   \n",
      "506         607  0.50000  90.0   2.10     1  0.310  9.200   4.3  10.6000  NaN   \n",
      "507         302  0.03445  82.5   2.03     0  0.415  6.162  38.4   6.2700  2.0   \n",
      "\n",
      "     tax  ptratio  lstat   medv date_appraised locationzone locationdistrict  \n",
      "0    296     15.3   4.98   24.0      3/27/2016           N3                N  \n",
      "1    242     17.8   9.14   21.6      3/28/2016           B2                B  \n",
      "2    242     17.8   4.03   34.7      3/27/2016           G3                G  \n",
      "3    222     18.7   2.94   33.4      3/26/2016           D2                D  \n",
      "4    222     18.7   5.33   36.2      3/28/2016           M3                M  \n",
      "..   ...      ...    ...    ...            ...          ...              ...  \n",
      "503  273     21.0   5.64   23.9      3/26/2016           M2                M  \n",
      "504  273     21.0   6.48   22.0      3/28/2016           S2                S  \n",
      "505  273     21.0   7.88   11.9      3/26/2016           W2                W  \n",
      "506  511     19.0   1.62  120.0      3/27/2016           F5                F  \n",
      "507  348     14.7   7.43   24.1      3/27/2016           M2                M  \n",
      "\n",
      "[508 rows x 17 columns]\n"
     ]
    }
   ],
   "source": [
    "df = pd.read_csv('Boston_housing_data_missing_medv_values.csv', dtype={'locationid':np.int64})\n",
    "df['medv'] = df['medv'].fillna(df['medv'].median())\n",
    "print(df)"
   ]
  },
  {
   "cell_type": "code",
   "execution_count": 47,
   "metadata": {},
   "outputs": [
    {
     "name": "stdout",
     "output_type": "stream",
     "text": [
      "     locationid     crim    zn  indus  chas    nox     rm   age      dis  rad  \\\n",
      "0           101  0.00632  18.0   2.31     0  0.538  6.575  65.2   4.0900  5.0   \n",
      "1           102  0.02731   0.0   7.07     0  0.469  6.421  78.9   4.9671  5.0   \n",
      "2           103  0.02729   0.0   7.07     0  0.469  7.185  61.1   4.9671  2.0   \n",
      "3           104  0.03237   0.0   2.18     0  0.458  6.998  45.8   6.0622  5.0   \n",
      "4           105  0.06905   0.0   2.18     0  0.458  7.147  54.2   6.0622  3.0   \n",
      "..          ...      ...   ...    ...   ...    ...    ...   ...      ...  ...   \n",
      "503         604  0.06076   0.0  11.93     0  0.573  6.976  91.0   2.1675  5.0   \n",
      "504         605  0.10959   0.0  11.93     0  0.573  6.794  89.3   2.3889  1.0   \n",
      "505         606  0.04741   0.0  11.93     0  0.573  6.030  80.8   2.5050  1.0   \n",
      "506         607  0.50000  90.0   2.10     1  0.310  9.200   4.3  10.6000  5.0   \n",
      "507         302  0.03445  82.5   2.03     0  0.415  6.162  38.4   6.2700  2.0   \n",
      "\n",
      "     tax  ptratio  lstat   medv date_appraised locationzone locationdistrict  \n",
      "0    296     15.3   4.98   24.0      3/27/2016           N3                N  \n",
      "1    242     17.8   9.14   21.6      3/28/2016           B2                B  \n",
      "2    242     17.8   4.03   34.7      3/27/2016           G3                G  \n",
      "3    222     18.7   2.94   33.4      3/26/2016           D2                D  \n",
      "4    222     18.7   5.33   36.2      3/28/2016           M3                M  \n",
      "..   ...      ...    ...    ...            ...          ...              ...  \n",
      "503  273     21.0   5.64   23.9      3/26/2016           M2                M  \n",
      "504  273     21.0   6.48   22.0      3/28/2016           S2                S  \n",
      "505  273     21.0   7.88   11.9      3/26/2016           W2                W  \n",
      "506  511     19.0   1.62  120.0      3/27/2016           F5                F  \n",
      "507  348     14.7   7.43   24.1      3/27/2016           M2                M  \n",
      "\n",
      "[508 rows x 17 columns]\n"
     ]
    }
   ],
   "source": [
    "df = pd.read_csv('Boston_housing_data_missing_medv_values.csv', dtype={'locationid':np.int64})\n",
    "df['rad'] = df['rad'].fillna(df['rad'].median())\n",
    "print(df)"
   ]
  }
 ],
 "metadata": {
  "kernelspec": {
   "display_name": "Python 3",
   "language": "python",
   "name": "python3"
  },
  "language_info": {
   "codemirror_mode": {
    "name": "ipython",
    "version": 3
   },
   "file_extension": ".py",
   "mimetype": "text/x-python",
   "name": "python",
   "nbconvert_exporter": "python",
   "pygments_lexer": "ipython3",
   "version": "3.7.6"
  },
  "varInspector": {
   "cols": {
    "lenName": 16,
    "lenType": 16,
    "lenVar": 40
   },
   "kernels_config": {
    "python": {
     "delete_cmd_postfix": "",
     "delete_cmd_prefix": "del ",
     "library": "var_list.py",
     "varRefreshCmd": "print(var_dic_list())"
    },
    "r": {
     "delete_cmd_postfix": ") ",
     "delete_cmd_prefix": "rm(",
     "library": "var_list.r",
     "varRefreshCmd": "cat(var_dic_list()) "
    }
   },
   "types_to_exclude": [
    "module",
    "function",
    "builtin_function_or_method",
    "instance",
    "_Feature"
   ],
   "window_display": false
  }
 },
 "nbformat": 4,
 "nbformat_minor": 4
}
