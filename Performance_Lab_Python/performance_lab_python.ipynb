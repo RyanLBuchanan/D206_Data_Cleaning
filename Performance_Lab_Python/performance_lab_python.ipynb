{
 "cells": [
  {
   "cell_type": "markdown",
   "metadata": {},
   "source": [
    "#### Code to expand cell width"
   ]
  },
  {
   "cell_type": "code",
   "execution_count": 7,
   "metadata": {},
   "outputs": [
    {
     "data": {
      "text/html": [
       "<style>.container { width:75% !important; }</style>"
      ],
      "text/plain": [
       "<IPython.core.display.HTML object>"
      ]
     },
     "metadata": {},
     "output_type": "display_data"
    }
   ],
   "source": [
    "from IPython.core.display import display, HTML\n",
    "display(HTML(\"<style>.container { width:75% !important; }</style>\"))"
   ]
  },
  {
   "cell_type": "markdown",
   "metadata": {},
   "source": [
    "#### Write the code to import the dataset Boston_housing_data.csv with the locationid column being an integer. Use print() to see the dataset as output."
   ]
  },
  {
   "cell_type": "code",
   "execution_count": 5,
   "metadata": {},
   "outputs": [
    {
     "name": "stdout",
     "output_type": "stream",
     "text": [
      "   locationid     crim    zn  indus  chas    nox     rm   age     dis  rad  \\\n",
      "0         101  0.00632  18.0   2.31   0.0  0.538  6.575  65.2  4.0900  NaN   \n",
      "1         102  0.02731   0.0   7.07   0.0  0.469  6.421  78.9  4.9671  NaN   \n",
      "2         103  0.02729   0.0   7.07   0.0  0.469  7.185  61.1  4.9671  2.0   \n",
      "3         104  0.03237   0.0   2.18   0.0  0.458  6.998  45.8  6.0622  NaN   \n",
      "4         105  0.06905   0.0   2.18   0.0  0.458  7.147  54.2  6.0622  3.0   \n",
      "\n",
      "     tax  ptratio  lstat  medv date_appraised locationzone locationdistrict  \n",
      "0  296.0     15.3   4.98  24.0     2016-03-27           N3                N  \n",
      "1  242.0     17.8   9.14  21.6     2016-03-28           B2                B  \n",
      "2  242.0     17.8   4.03  34.7     2016-03-27           G3                G  \n",
      "3  222.0     18.7   2.94  33.4     2016-03-26           D2                D  \n",
      "4  222.0     18.7   5.33  36.2     2016-03-28           M3                M  \n"
     ]
    }
   ],
   "source": [
    "import pandas as pd\n",
    "import numpy as np\n",
    "df = pd.read_csv('boston_housing_data.csv', dtype = {'locationid':np.int64})\n",
    "data = df.head()\n",
    "print(data)"
   ]
  },
  {
   "cell_type": "markdown",
   "metadata": {},
   "source": [
    "#### Write code that displays the number of rows and columns in the dataframe stored as df."
   ]
  },
  {
   "cell_type": "code",
   "execution_count": 9,
   "metadata": {},
   "outputs": [
    {
     "name": "stdout",
     "output_type": "stream",
     "text": [
      "(508, 17)\n"
     ]
    }
   ],
   "source": [
    "data = df.shape\n",
    "print(data)"
   ]
  },
  {
   "cell_type": "markdown",
   "metadata": {},
   "source": [
    "#### Write code to display the column names in the dataframe stored as df."
   ]
  },
  {
   "cell_type": "code",
   "execution_count": 10,
   "metadata": {},
   "outputs": [
    {
     "name": "stdout",
     "output_type": "stream",
     "text": [
      "Index(['locationid', 'crim', 'zn', 'indus', 'chas', 'nox', 'rm', 'age', 'dis',\n",
      "       'rad', 'tax', 'ptratio', 'lstat', 'medv', 'date_appraised',\n",
      "       'locationzone', 'locationdistrict'],\n",
      "      dtype='object')\n"
     ]
    }
   ],
   "source": [
    "data = df.columns\n",
    "print(data)"
   ]
  },
  {
   "cell_type": "markdown",
   "metadata": {},
   "source": [
    "#### Write code to display the mean, count, min, and max of all the numeric data using a single line of code in the dataframe stored as df."
   ]
  },
  {
   "cell_type": "code",
   "execution_count": 11,
   "metadata": {},
   "outputs": [
    {
     "name": "stdout",
     "output_type": "stream",
     "text": [
      "       locationid        crim          zn       indus        chas         nox  \\\n",
      "count  508.000000  508.000000  508.000000  508.000000  508.000000  508.000000   \n",
      "mean   353.897638    3.600349   11.658465   11.101063    0.070866    0.553938   \n",
      "std    146.376192    8.587137   23.746192    6.870382    0.256854    0.116321   \n",
      "min    101.000000    0.006320    0.000000    0.460000    0.000000    0.310000   \n",
      "25%    227.750000    0.081960    0.000000    5.130000    0.000000    0.448750   \n",
      "50%    353.500000    0.256510    0.000000    9.690000    0.000000    0.538000   \n",
      "75%    480.250000    3.674808   12.500000   18.100000    0.000000    0.624000   \n",
      "max    607.000000   88.976200  100.000000   27.740000    1.000000    0.871000   \n",
      "\n",
      "               rm         age         dis         rad         tax     ptratio  \\\n",
      "count  508.000000  508.000000  508.000000  300.000000  508.000000  508.000000   \n",
      "mean     6.290132   68.388976    3.813310    9.983333  408.320866   18.449213   \n",
      "std      0.713083   28.269108    2.125937    8.927976  168.287515    2.167225   \n",
      "min      3.561000    2.900000    1.129600    1.000000  187.000000   12.600000   \n",
      "25%      5.886500   44.225000    2.100525    4.000000  279.000000   17.375000   \n",
      "50%      6.208500   77.150000    3.215700    5.000000  330.000000   19.000000   \n",
      "75%      6.626000   94.025000    5.214600   24.000000  666.000000   20.200000   \n",
      "max      9.200000  100.000000   12.126500   24.000000  711.000000   22.000000   \n",
      "\n",
      "            lstat        medv  \n",
      "count  508.000000  508.000000  \n",
      "mean    12.621063   22.727756  \n",
      "std      7.147480   10.146783  \n",
      "min      1.620000    5.000000  \n",
      "25%      6.927500   17.075000  \n",
      "50%     11.330000   21.200000  \n",
      "75%     16.945000   25.000000  \n",
      "max     37.970000  120.000000  \n"
     ]
    }
   ],
   "source": [
    "data = df.describe()\n",
    "print(data)"
   ]
  },
  {
   "cell_type": "markdown",
   "metadata": {},
   "source": [
    "#### Write code to display the variable type of each column in the dataframe stored as df."
   ]
  },
  {
   "cell_type": "code",
   "execution_count": 15,
   "metadata": {},
   "outputs": [
    {
     "name": "stdout",
     "output_type": "stream",
     "text": [
      "locationid            int64\n",
      "crim                float64\n",
      "zn                  float64\n",
      "indus               float64\n",
      "chas                float64\n",
      "nox                 float64\n",
      "rm                  float64\n",
      "age                 float64\n",
      "dis                 float64\n",
      "rad                 float64\n",
      "tax                 float64\n",
      "ptratio             float64\n",
      "lstat               float64\n",
      "medv                float64\n",
      "date_appraised       object\n",
      "locationzone         object\n",
      "locationdistrict     object\n",
      "dtype: object\n"
     ]
    }
   ],
   "source": [
    "data = df.dtypes\n",
    "print(data)"
   ]
  },
  {
   "cell_type": "code",
   "execution_count": null,
   "metadata": {},
   "outputs": [],
   "source": []
  }
 ],
 "metadata": {
  "kernelspec": {
   "display_name": "Python 3",
   "language": "python",
   "name": "python3"
  },
  "language_info": {
   "codemirror_mode": {
    "name": "ipython",
    "version": 3
   },
   "file_extension": ".py",
   "mimetype": "text/x-python",
   "name": "python",
   "nbconvert_exporter": "python",
   "pygments_lexer": "ipython3",
   "version": "3.7.6"
  },
  "varInspector": {
   "cols": {
    "lenName": 16,
    "lenType": 16,
    "lenVar": 40
   },
   "kernels_config": {
    "python": {
     "delete_cmd_postfix": "",
     "delete_cmd_prefix": "del ",
     "library": "var_list.py",
     "varRefreshCmd": "print(var_dic_list())"
    },
    "r": {
     "delete_cmd_postfix": ") ",
     "delete_cmd_prefix": "rm(",
     "library": "var_list.r",
     "varRefreshCmd": "cat(var_dic_list()) "
    }
   },
   "types_to_exclude": [
    "module",
    "function",
    "builtin_function_or_method",
    "instance",
    "_Feature"
   ],
   "window_display": false
  }
 },
 "nbformat": 4,
 "nbformat_minor": 4
}
